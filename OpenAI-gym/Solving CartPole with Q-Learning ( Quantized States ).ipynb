{
 "cells": [
  {
   "cell_type": "markdown",
   "metadata": {},
   "source": [
    "<h1>\n",
    "<center><img src=\"lite_no_back.png\" width = 80 height= 80/>\n",
    "<b>Nefarious </h1></b> </center>\n",
    "\n",
    "---\n",
    "\n",
    "# Solving CartPole with Q-Learning ( Quantized States )\n",
    "---"
   ]
  },
  {
   "cell_type": "code",
   "execution_count": 42,
   "metadata": {},
   "outputs": [],
   "source": [
    "import gym\n",
    "from gym import wrappers\n",
    "import numpy as np \n",
    "import matplotlib.pyplot as plt\n",
    "\n",
    "from IPython.display import HTML"
   ]
  },
  {
   "cell_type": "code",
   "execution_count": 194,
   "metadata": {},
   "outputs": [
    {
     "data": {
      "text/html": [
       "<iframe width=\"697\" height=\"292\" src=\"https://www.youtube.com/embed/0qLEcGCJ-Lc\" frameborder=\"0\" allow=\"accelerometer; autoplay; encrypted-media; gyroscope; picture-in-picture\" allowfullscreen></iframe>"
      ],
      "text/plain": [
       "<IPython.core.display.HTML object>"
      ]
     },
     "execution_count": 194,
     "metadata": {},
     "output_type": "execute_result"
    }
   ],
   "source": [
    "HTML('<iframe width=\"697\" height=\"292\" src=\"https://www.youtube.com/embed/0qLEcGCJ-Lc\" frameborder=\"0\" allow=\"accelerometer; autoplay; encrypted-media; gyroscope; picture-in-picture\" allowfullscreen></iframe>')"
   ]
  },
  {
   "cell_type": "markdown",
   "metadata": {},
   "source": [
    "Important Point <br>\n",
    "* The outcome of the observation are 4 Variables, Their corresponding Meaning are:\n",
    "<ol>\n",
    "    <li>Cart Position **&plusmn;4.8**</li>\n",
    "    <li>Cart Velocity  **inf** </li>\n",
    "    <li>Pole Angle  **&plusmn;0.418**</li>\n",
    "    <li>Pole Velocity  **inf**</li>\n",
    "</ol>\n",
    "\n",
    "\n"
   ]
  },
  {
   "cell_type": "code",
   "execution_count": 178,
   "metadata": {},
   "outputs": [],
   "source": [
    "class Q_learning:\n",
    "    def __init__(self,env, predef, Q):\n",
    "        '''\n",
    "        Predef = True  \n",
    "        If the `Q` Table is already provided\n",
    "        else False\n",
    "        '''\n",
    "        \n",
    "        if predef == True:\n",
    "            self.Q = Q\n",
    "        else:\n",
    "            self.Q = np.random.uniform(low=-0.5, high=0.5, size= (6,10,20,10,2))\n",
    "            \n",
    "            \n",
    "        self.states = [np.linspace(-1, 1, 5),  np.linspace(-2.0, 2.0, 9),\n",
    "                       np.linspace(-0.4, 0.4, 19),  np.linspace(-2.0, 2.0, 9)]\n",
    "        \n",
    "        # use to divide the continuous problem to States\n",
    "        \n",
    "        self.env = env # environment of the game\n",
    "   \n",
    "    def obs_bin(self,a,b):\n",
    "        return np.digitize(x = a,bins = b)  # classify the continuous current variable to one of the states\n",
    "    \n",
    "    def obs_state(self, obs):\n",
    "        l_state = []\n",
    "        for i in range(4):\n",
    "            l_state.append(self.obs_bin(obs[i],self.states[i]))\n",
    "        return l_state   # returns the state values of the current observation variables\n",
    "    \n",
    "    def predict(self,b):\n",
    "        a = self.obs_state(b)\n",
    "        return self.Q[a[0],a[1],a[2],a[3]]  # return the values from Q table \n",
    "        \n",
    "    def update(self, a, action, G):\n",
    "        ''' \n",
    "        Gradient Descent is used to Perform the Weight updation.\n",
    "        '''\n",
    "        a = self.obs_state(a)\n",
    "        self.Q[a[0],a[1],a[2],a[3],action ]  += 1e-1*( G - self.Q[a[0],a[1],a[2],a[3] ,action ])\n",
    "\n",
    "    def vid_play(self,env1):\n",
    "        '''\n",
    "        Run the Demo on the Current Learned `Q` Values.\n",
    "        '''\n",
    "        done = False\n",
    "        tot_reward = 0\n",
    "        env1 = wrappers.Monitor(env1,'q_vid',force = True)\n",
    "        observation = env1.reset()\n",
    "        while not done:\n",
    "            action = self.sample_action(observation , 0)\n",
    "            env1.render()\n",
    "            observation, reward, done, info = env1.step(action)\n",
    "            tot_reward += reward\n",
    "        print(tot_reward)\n",
    "        env1.close()\n",
    "        \n",
    "    def sample_action(self, s, eps):\n",
    "        '''\n",
    "        This function allows to randomly explore states, according to Epsilon value\n",
    "        '''\n",
    "        if np.random.random() < eps:\n",
    "            return self.env.action_space.sample()\n",
    "        else:\n",
    "            p = self.predict(s)\n",
    "            return np.argmax(p)\n"
   ]
  },
  {
   "cell_type": "code",
   "execution_count": 179,
   "metadata": {},
   "outputs": [],
   "source": [
    "\n",
    "def run(env,eps, model):\n",
    "\n",
    "    tot_reward = 0\n",
    "    observation = env.reset()\n",
    "    done = False\n",
    "    gamma = 0.8\n",
    "    i = 0\n",
    "    while not done and i < 10000:\n",
    "        action = model.sample_action(observation, eps)\n",
    "        \n",
    "        prev_obs = observation\n",
    "        observation, reward, done, info = env.step(action)\n",
    "        tot_reward += reward\n",
    "        angle = observation[2]\n",
    "        \n",
    "        G = reward + gamma*np.max(model.predict(observation))\n",
    "        # TD(0) \n",
    "        if done and i < 200:\n",
    "            G = -300\n",
    "        \n",
    "        model.update(model.obs_state(prev_obs), action, G)\n",
    "        i+=1\n",
    "\n",
    "        tot_reward += reward\n",
    "        if done:\n",
    "            break\n",
    "    env.close()\n",
    "    return tot_reward\n"
   ]
  },
  {
   "cell_type": "code",
   "execution_count": 184,
   "metadata": {},
   "outputs": [],
   "source": [
    "_Q = np.load(\"Q.npy\")\n",
    "env = gym.make('CartPole-v0')\n",
    "model = Q_learning(env,True,_Q)"
   ]
  },
  {
   "cell_type": "code",
   "execution_count": 195,
   "metadata": {},
   "outputs": [
    {
     "name": "stdout",
     "output_type": "stream",
     "text": [
      "episode: 0 total reward: 40.0 eps: 1.0\n",
      "episode: 100 total reward: 232.0 eps: 0.09950371902099892\n",
      "episode: 200 total reward: 50.0 eps: 0.07053456158585983\n",
      "episode: 300 total reward: 26.0 eps: 0.0576390417704235\n",
      "episode: 400 total reward: 40.0 eps: 0.04993761694389223\n",
      "episode: 500 total reward: 50.0 eps: 0.04467670516087703\n",
      "episode: 600 total reward: 36.0 eps: 0.04079085082240021\n",
      "episode: 700 total reward: 72.0 eps: 0.0377694787300249\n",
      "episode: 800 total reward: 62.0 eps: 0.03533326266687867\n",
      "episode: 900 total reward: 24.0 eps: 0.03331483023263848\n",
      "episode: 1000 total reward: 200.0 eps: 0.0316069770620507\n",
      "episode: 1100 total reward: 198.0 eps: 0.03013743873394561\n",
      "episode: 1200 total reward: 240.0 eps: 0.028855492841238062\n",
      "episode: 1300 total reward: 96.0 eps: 0.027724348650071385\n",
      "episode: 1400 total reward: 22.0 eps: 0.02671658425726324\n",
      "episode: 1500 total reward: 50.0 eps: 0.025811286645983367\n",
      "episode: 1600 total reward: 340.0 eps: 0.02499219116020307\n",
      "episode: 1700 total reward: 280.0 eps: 0.024246432248443597\n",
      "episode: 1800 total reward: 388.0 eps: 0.02356368148131365\n",
      "episode: 1900 total reward: 168.0 eps: 0.02293553851298437\n",
      "episode: 2000 total reward: 142.0 eps: 0.022355091700494795\n",
      "episode: 2100 total reward: 100.0 eps: 0.021816595214404266\n",
      "episode: 2200 total reward: 80.0 eps: 0.021315227815974374\n",
      "episode: 2300 total reward: 302.0 eps: 0.02084690996125416\n",
      "episode: 2400 total reward: 278.0 eps: 0.02040816326530612\n",
      "episode: 2500 total reward: 46.0 eps: 0.01999600119960014\n",
      "episode: 2600 total reward: 24.0 eps: 0.0196078431372549\n",
      "episode: 2700 total reward: 24.0 eps: 0.019241446072101123\n",
      "episode: 2800 total reward: 40.0 eps: 0.018894849871330582\n",
      "episode: 2900 total reward: 26.0 eps: 0.018566333001716968\n",
      "episode: 3000 total reward: 326.0 eps: 0.01825437644092281\n",
      "episode: 3100 total reward: 156.0 eps: 0.017957634043632188\n",
      "episode: 3200 total reward: 400.0 eps: 0.01767490804100673\n",
      "episode: 3300 total reward: 296.0 eps: 0.01740512865461766\n",
      "episode: 3400 total reward: 398.0 eps: 0.017147337032429676\n",
      "episode: 3500 total reward: 62.0 eps: 0.01690067088544646\n",
      "episode: 3600 total reward: 22.0 eps: 0.016664352333993333\n",
      "episode: 3700 total reward: 126.0 eps: 0.016437677572823703\n",
      "episode: 3800 total reward: 266.0 eps: 0.01622000804188198\n",
      "episode: 3900 total reward: 54.0 eps: 0.01601076285016887\n",
      "episode: 4000 total reward: 168.0 eps: 0.015809412247806517\n",
      "episode: 4100 total reward: 210.0 eps: 0.015615471979112765\n",
      "episode: 4200 total reward: 28.0 eps: 0.015428498379527544\n",
      "episode: 4300 total reward: 342.0 eps: 0.015248084103296531\n",
      "episode: 4400 total reward: 78.0 eps: 0.015073854388204487\n",
      "episode: 4500 total reward: 26.0 eps: 0.014905463779355262\n",
      "episode: 4600 total reward: 20.0 eps: 0.014742593246782542\n",
      "episode: 4700 total reward: 336.0 eps: 0.014584947642137372\n",
      "episode: 4800 total reward: 158.0 eps: 0.014432253448298278\n",
      "episode: 4900 total reward: 32.0 eps: 0.014284256782850143\n",
      "episode: 5000 total reward: 16.0 eps: 0.014140721622265264\n",
      "episode: 5100 total reward: 210.0 eps: 0.014001428218521149\n",
      "episode: 5200 total reward: 140.0 eps: 0.013866171683985996\n",
      "episode: 5300 total reward: 134.0 eps: 0.013734760723838819\n",
      "episode: 5400 total reward: 70.0 eps: 0.013607016498184134\n",
      "episode: 5500 total reward: 22.0 eps: 0.013482771598464758\n",
      "episode: 5600 total reward: 352.0 eps: 0.01336186912484746\n",
      "episode: 5700 total reward: 120.0 eps: 0.013244161853017133\n",
      "episode: 5800 total reward: 290.0 eps: 0.013129511480316922\n",
      "episode: 5900 total reward: 32.0 eps: 0.013017787942456283\n",
      "episode: 6000 total reward: 24.0 eps: 0.012908868793110689\n",
      "episode: 6100 total reward: 36.0 eps: 0.012802638639684321\n",
      "episode: 6200 total reward: 198.0 eps: 0.012698988629324323\n",
      "episode: 6300 total reward: 400.0 eps: 0.012597815979981676\n",
      "episode: 6400 total reward: 80.0 eps: 0.01249902355192602\n",
      "episode: 6500 total reward: 218.0 eps: 0.01240251945565374\n",
      "episode: 6600 total reward: 30.0 eps: 0.01230821669259179\n",
      "episode: 6700 total reward: 74.0 eps: 0.012216032825403858\n",
      "episode: 6800 total reward: 164.0 eps: 0.01212588967505907\n",
      "episode: 6900 total reward: 20.0 eps: 0.0120377130421331\n",
      "episode: 7000 total reward: 60.0 eps: 0.011951432450083671\n",
      "episode: 7100 total reward: 36.0 eps: 0.011866980908481739\n",
      "episode: 7200 total reward: 276.0 eps: 0.01178429469439066\n",
      "episode: 7300 total reward: 70.0 eps: 0.011703313150272007\n",
      "episode: 7400 total reward: 292.0 eps: 0.011623978496961555\n",
      "episode: 7500 total reward: 48.0 eps: 0.01154623566040508\n",
      "episode: 7600 total reward: 328.0 eps: 0.011470032110973345\n",
      "episode: 7700 total reward: 44.0 eps: 0.011395317714291038\n",
      "episode: 7800 total reward: 26.0 eps: 0.011322044592617122\n",
      "episode: 7900 total reward: 118.0 eps: 0.011250166995905777\n",
      "episode: 8000 total reward: 52.0 eps: 0.01117964118175896\n",
      "episode: 8100 total reward: 164.0 eps: 0.011110425303554916\n",
      "episode: 8200 total reward: 306.0 eps: 0.0110424793061026\n",
      "episode: 8300 total reward: 318.0 eps: 0.010975764828230913\n",
      "episode: 8400 total reward: 58.0 eps: 0.010910245111774533\n",
      "episode: 8500 total reward: 20.0 eps: 0.01084588491646583\n",
      "episode: 8600 total reward: 238.0 eps: 0.010782650440285157\n",
      "episode: 8700 total reward: 26.0 eps: 0.010720509244860595\n",
      "episode: 8800 total reward: 118.0 eps: 0.010659430185543134\n",
      "episode: 8900 total reward: 250.0 eps: 0.01059938334581489\n",
      "episode: 9000 total reward: 400.0 eps: 0.010540339975716555\n",
      "episode: 9100 total reward: 118.0 eps: 0.010482272434006255\n",
      "episode: 9200 total reward: 20.0 eps: 0.010425154133785426\n",
      "episode: 9300 total reward: 324.0 eps: 0.01036895949134883\n",
      "episode: 9400 total reward: 46.0 eps: 0.010313663878035112\n",
      "episode: 9500 total reward: 20.0 eps: 0.010259243574872122\n",
      "episode: 9600 total reward: 40.0 eps: 0.010205675729827259\n",
      "episode: 9700 total reward: 88.0 eps: 0.010152938317487875\n",
      "episode: 9800 total reward: 48.0 eps: 0.010101010101010102\n",
      "episode: 9900 total reward: 300.0 eps: 0.010049870596186849\n"
     ]
    }
   ],
   "source": [
    "def loop():\n",
    "    \n",
    "    n_episodes = 10000\n",
    "    lreward = []\n",
    "    for j in range(n_episodes):\n",
    "        eps = 1/np.sqrt(j+1)\n",
    "        lreward.append(run(env, eps,model))\n",
    "        if j % 100 == 0:\n",
    "            print(\"episode:\", j, \"total reward:\", lreward[-1], \"eps:\", eps)\n",
    "    np.save(\"Q\",model.Q)\n",
    "    return lreward \n",
    "\n",
    "l = loop()\n"
   ]
  },
  {
   "cell_type": "code",
   "execution_count": 196,
   "metadata": {},
   "outputs": [
    {
     "name": "stdout",
     "output_type": "stream",
     "text": [
      "35.0\n"
     ]
    }
   ],
   "source": [
    "model.vid_play(env)"
   ]
  },
  {
   "cell_type": "code",
   "execution_count": 197,
   "metadata": {},
   "outputs": [],
   "source": [
    "def plot_running_avg(totalrewards):\n",
    "    N = len(totalrewards)\n",
    "    running_avg = np.empty(N)\n",
    "    for t in range(N):\n",
    "        running_avg[t] = totalrewards[max(0, t-100):(t+1)].mean()\n",
    "    plt.plot(running_avg)\n",
    "    plt.title(\"Running Average\")\n",
    "    plt.show()"
   ]
  },
  {
   "cell_type": "code",
   "execution_count": 198,
   "metadata": {},
   "outputs": [
    {
     "data": {
      "image/png": "[encoded data removed]",
      "text/plain": [
       "<Figure size 432x288 with 1 Axes>"
      ]
     },
     "metadata": {},
     "output_type": "display_data"
    }
   ],
   "source": [
    "plot_running_avg(np.array(l))"
   ]
  },
  {
   "cell_type": "markdown",
   "metadata": {},
   "source": [
    "## END"
   ]
  },
  {
   "cell_type": "code",
   "execution_count": 415,
   "metadata": {},
   "outputs": [],
   "source": [
    "q.obs_state(observation)\n",
    "\n",
    "lreward = []\n",
    "env.reset()\n",
    "low = -0.025\n",
    "upper = 0.025\n",
    "for i in range(steps):\n",
    "    env.render()\n",
    "    observation, reward, done, info = env.step(np.random.randint(0,2))\n",
    "    if observation[2] < low:\n",
    "        move = 1\n",
    "        upper -= 0.01\n",
    "        low -= 0.01\n",
    "    elif observation[2] >= upper:\n",
    "        move = 0\n",
    "        low += 0.01\n",
    "        upper += 0.01\n",
    "    else:\n",
    "        move = np.random.randint(0,2)\n",
    "        \n",
    "    if done:\n",
    "        break\n",
    "    lreward.append(observation)\n",
    "env.close()\n",
    "plt.plot(np.matrix(lreward)[:,2])"
   ]
  }
 ],
 "metadata": {
  "kernelspec": {
   "display_name": "Python 3",
   "language": "python",
   "name": "python3"
  },
  "language_info": {
   "codemirror_mode": {
    "name": "ipython",
    "version": 3
   },
   "file_extension": ".py",
   "mimetype": "text/x-python",
   "name": "python",
   "nbconvert_exporter": "python",
   "pygments_lexer": "ipython3",
   "version": "3.6.5"
  }
 },
 "nbformat": 4,
 "nbformat_minor": 2
}
